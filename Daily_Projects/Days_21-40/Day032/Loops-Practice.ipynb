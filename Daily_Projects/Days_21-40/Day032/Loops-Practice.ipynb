{
 "cells": [
  {
   "cell_type": "markdown",
   "metadata": {},
   "source": [
    "## Loops Practice\n",
    "### Jared Sekellick"
   ]
  },
  {
   "cell_type": "code",
   "execution_count": null,
   "metadata": {},
   "outputs": [],
   "source": [
    "\n",
    "import time\n",
    "for number in range(3):\n",
    "    print(\"Attempt\", number + 1, (number + 1) * \".\")\n",
    "    time.sleep(1)"
   ]
  },
  {
   "cell_type": "code",
   "execution_count": null,
   "metadata": {},
   "outputs": [],
   "source": [
    "# For and Else\n",
    "successful = False\n",
    "for number in range(3): # repeats 1 - 3\n",
    "    print(\"Attempt\")  # loop within range\n",
    "    if successful:  # if successful = True\n",
    "        print(\"Successful\")\n",
    "        break\n",
    "else:\n",
    "    print(f\"Attempted {number + 1} times and failed\")"
   ]
  },
  {
   "cell_type": "code",
   "execution_count": null,
   "metadata": {},
   "outputs": [],
   "source": [
    "# Nested loops\n",
    "for x in range(5):\n",
    "    for y in range(3):\n",
    "        print(f\"({x}, {y})\")"
   ]
  },
  {
   "cell_type": "code",
   "execution_count": null,
   "metadata": {},
   "outputs": [],
   "source": [
    "print(type(5))\n",
    "print(type(range(5)))\n",
    "\n",
    "# Iterable\n",
    "for x in \"Python\":\n",
    "    print(x)\n",
    "\n",
    "for x in [1, 2, 3, 4]:\n",
    "    print(x)\n",
    "    "
   ]
  },
  {
   "cell_type": "code",
   "execution_count": null,
   "metadata": {},
   "outputs": [],
   "source": [
    "# Iterable\n",
    "shopping_cart = [\"Balls\", \"Elephant\", \"Ham\", \"Bacon\", \"Boobs\"]\n",
    "for item in shopping_cart:\n",
    "    print(item)"
   ]
  },
  {
   "cell_type": "code",
   "execution_count": null,
   "metadata": {},
   "outputs": [],
   "source": [
    "# While loops\n",
    "number = 100\n",
    "while number > 0:\n",
    "    print(number)\n",
    "    number //= 2\n"
   ]
  },
  {
   "cell_type": "code",
   "execution_count": null,
   "metadata": {},
   "outputs": [],
   "source": [
    "command = \"\"\n",
    "while command != \"quit\":\n",
    "    command = input(\">\")\n",
    "    print(\"ECHO\", command)"
   ]
  },
  {
   "cell_type": "code",
   "execution_count": null,
   "metadata": {},
   "outputs": [],
   "source": [
    "command = \"\"\n",
    "while command.lower != \"quit\":\n",
    "    command = input(\">\")\n",
    "    print(\"ECHO\", command)"
   ]
  },
  {
   "cell_type": "code",
   "execution_count": null,
   "metadata": {},
   "outputs": [],
   "source": [
    "# Infinite Loop\n",
    "\n",
    "while True:\n",
    "    command = input(\">\")\n",
    "    print(\"ECHO\", command)\n",
    "    if command.lower() == \"quit\":\n",
    "        break\n"
   ]
  },
  {
   "cell_type": "code",
   "execution_count": null,
   "metadata": {},
   "outputs": [],
   "source": [
    "# Loops Exercise\n",
    "# Display the even numbers between 1-10\n",
    "for i in range(2, 10, 2):\n",
    "    print(i)\n",
    "print(\"We have 4 even numbers\")"
   ]
  },
  {
   "cell_type": "code",
   "execution_count": null,
   "metadata": {},
   "outputs": [],
   "source": [
    "numbers = 0\n",
    "for i in range(1, 10):\n",
    "    if i % 2 == 0:\n",
    "        print(i)\n",
    "        numbers += 1\n",
    "print(f\"We have {numbers} even numbers.\")\n",
    "    "
   ]
  },
  {
   "cell_type": "code",
   "execution_count": null,
   "metadata": {},
   "outputs": [],
   "source": [
    "list = []\n",
    "for number in range(1, 11):\n",
    "    if number % 2 == 0:\n",
    "        list.append(number)\n",
    "        print(number)\n",
    "print(f\"We have {len(list)} even numbers.\")\n",
    "print(list)\n"
   ]
  },
  {
   "cell_type": "code",
   "execution_count": null,
   "metadata": {},
   "outputs": [],
   "source": [
    "# Append a range to a list\n",
    "list = []\n",
    "for i in range(1, 12):\n",
    "    list.append(i)\n",
    "print(list)"
   ]
  },
  {
   "cell_type": "code",
   "execution_count": null,
   "metadata": {},
   "outputs": [],
   "source": [
    "# change list range to user inputs\n",
    "\n",
    "list = []\n",
    "start = int(input(\"What number to start in the range? \"))\n",
    "end = int(input(\"What number to end the range? \"))\n",
    "\n",
    "for number in range(start, end):\n",
    "    if number % 2 == 0:\n",
    "        list.append(number)\n",
    "        print(number)\n",
    "print(f\"We have {len(list)} even numbers.\")\n",
    "print(list)"
   ]
  }
 ],
 "metadata": {
  "kernelspec": {
   "display_name": "base",
   "language": "python",
   "name": "python3"
  },
  "language_info": {
   "codemirror_mode": {
    "name": "ipython",
    "version": 3
   },
   "file_extension": ".py",
   "mimetype": "text/x-python",
   "name": "python",
   "nbconvert_exporter": "python",
   "pygments_lexer": "ipython3",
   "version": "3.9.13"
  },
  "orig_nbformat": 4
 },
 "nbformat": 4,
 "nbformat_minor": 2
}
