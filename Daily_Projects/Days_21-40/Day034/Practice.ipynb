{
 "cells": [
  {
   "attachments": {},
   "cell_type": "markdown",
   "metadata": {},
   "source": [
    "Exercise from CodeWars.com\n",
    "Your goal is to create a function that removes the first and last characters of a string.  \n",
    "You're given one parameter, the original string. You don't have to worry with strings with less than two characters."
   ]
  },
  {
   "cell_type": "code",
   "execution_count": null,
   "metadata": {},
   "outputs": [],
   "source": [
    "# Remove First and Last Character\n",
    "\n",
    "def remove_char(s):\n",
    "    s = s[:-1]\n",
    "    s = s[1:]\n",
    "    return s\n",
    "remove_char(\"Hello\")\n"
   ]
  },
  {
   "cell_type": "code",
   "execution_count": null,
   "metadata": {},
   "outputs": [],
   "source": [
    "# Fizz Buzz Exercise\n",
    "\n",
    "def fizz_buzz(input):\n",
    "    if input % 3 == 0 and input % 5 == 0:\n",
    "        return \"FizzBuzz\"\n",
    "    elif input % 3 == 0:\n",
    "        return \"Fizz\"\n",
    "    elif input % 5 == 0:\n",
    "        return \"Buzz\"\n",
    "    return input\n",
    "\n",
    "fizz_buzz(7)\n",
    "\n",
    "\n",
    "\n",
    "\n"
   ]
  },
  {
   "cell_type": "code",
   "execution_count": null,
   "metadata": {},
   "outputs": [],
   "source": [
    "# Sheep Count\n",
    "def count_sheep(num):\n",
    "    sheep_count = \"\"\n",
    "    for i in range(1, num+1):\n",
    "        sheep_count += str(i) + \" sheep...\"\n",
    "    return sheep_count\n",
    "\n",
    "# Alternative found on CodeWars\n",
    "def count_sheep(n):\n",
    "    return ''.join(f\"{i} sheep...\" for i in range(1,n+1))"
   ]
  },
  {
   "cell_type": "code",
   "execution_count": null,
   "metadata": {},
   "outputs": [],
   "source": [
    "# Grasshopper Summation\n",
    "# Write a program that finds the summation of every number from 1 to num. \n",
    "# The number will always be a positive integer greater than 0.\n",
    "def summation(num):\n",
    "    number = 0\n",
    "    for i in range(1, num+1):\n",
    "        number = i + number\n",
    "    return number"
   ]
  },
  {
   "cell_type": "code",
   "execution_count": null,
   "metadata": {},
   "outputs": [],
   "source": [
    "a = \"code\"\n",
    "b = \"wa.rs\"\n",
    "name = a + b"
   ]
  },
  {
   "cell_type": "code",
   "execution_count": null,
   "metadata": {},
   "outputs": [],
   "source": [
    "# Convert boolean to Yes or No string\n",
    "def bool_to_word(boolean):\n",
    "    if boolean == True:\n",
    "        return \"Yes\"\n",
    "    elif boolean == False:\n",
    "        return \"No\"\n",
    "    return \"Why hello there, handsom.\"\n",
    "\n",
    "# Other Solutions\n",
    "def bool_to_word(bool):\n",
    "    return ['No', 'Yes'][bool]\n",
    "\n",
    "def bool_to_word(bool):\n",
    "    return \"Yes\" if bool else \"No\"\n",
    "\n",
    "bool_to_word = {True: 'Yes', False: 'No'}.get"
   ]
  },
  {
   "cell_type": "code",
   "execution_count": null,
   "metadata": {},
   "outputs": [],
   "source": [
    "# Create a function that takes an integer as an argument and returns \"Even\" for even numbers or \"Odd\" for odd numbers.\n",
    "\n",
    "def even_or_odd(number):\n",
    "    return \"Even\" if number % 2 == 0 else \"Odd\""
   ]
  },
  {
   "cell_type": "code",
   "execution_count": null,
   "metadata": {},
   "outputs": [],
   "source": [
    "\"\"\"Implement a function that adds two numbers together and returns their sum in binary. The conversion can be done before, or after the addition.\n",
    "The binary number returned should be a string.\n",
    "Examples:(Input1, Input2 --> Output (explanation)))\n",
    "1, 1 --> \"10\" (1 + 1 = 2 in decimal or 10 in binary)\n",
    "5, 9 --> \"1110\" (5 + 9 = 14 in decimal or 1110 in binary)\"\"\"\n",
    "\n",
    "def add_binary(a, b):\n",
    "    return bin(a + b)[2:]\n",
    "add_binary(1, 1)\n",
    "\n",
    "# Alternates\n",
    "def add_binary(a,b):\n",
    "    return '{0:b}'.format(a + b)\n",
    "\n",
    "def add_binary(a, b):\n",
    "    return format(a + b, 'b')\n",
    "\n",
    "def add_binary(a,b):\n",
    "    return f\"{a + b:b}\"\n",
    "\n",
    "def add_binary(a,b):\n",
    "    \"\"\"Adds a and b together and returns a binary string\"\"\"\n",
    "    return bin(a + b)[2::]\n",
    "\n",
    "def find_highest_power_2(num):\n",
    "    n=0\n",
    "    while 2**n <= num:\n",
    "        n += 1\n",
    "    return n-1    \n",
    "\n",
    "def add_binary(a,b):\n",
    "    sum = a + b\n",
    "    number = 0\n",
    "    while sum != 0:\n",
    "        place_holder = find_highest_power_2(sum)\n",
    "        number += 10**place_holder\n",
    "        sum = sum - 2**place_holder\n",
    "    return str(number)\n",
    "\n",
    "def add_binary(a,b):\n",
    "    n = a + b\n",
    "    binList = []\n",
    "    while (n > 0):\n",
    "        binList.append(n % 2)\n",
    "        n = n // 2\n",
    "    return ''.join(map(str, reversed(binList)))"
   ]
  },
  {
   "cell_type": "code",
   "execution_count": 40,
   "metadata": {},
   "outputs": [
    {
     "name": "stdout",
     "output_type": "stream",
     "text": [
      "(0, 'a')\n",
      "(1, 'b')\n",
      "(2, 'c')\n"
     ]
    }
   ],
   "source": [
    "# Looping Lists\n",
    "letters = [\"a\", \"b\", \"c\"]\n",
    "items = (0, \"a\")\n",
    "index, letter = items\n",
    "for letter in enumerate(letters):\n",
    "    print(letter)"
   ]
  },
  {
   "cell_type": "code",
   "execution_count": 37,
   "metadata": {},
   "outputs": [
    {
     "name": "stdout",
     "output_type": "stream",
     "text": [
      "xyaabbbccccdefwwxxxxyyyyabklmopq\n"
     ]
    }
   ],
   "source": [
    "\"\"\"Take 2 strings s1 and s2 including only letters from a to z. Return a new sorted string, the longest possible, containing distinct letters - each taken only once - coming from s1 or s2.\"\"\"\n",
    "a = \"xyaabbbccccdefww\"\n",
    "b = \"xxxxyyyyabklmopq\"\n",
    "\n",
    "def longest(a1, a2):\n",
    "    long_word = a1 + a2\n",
    "    \n",
    "    print(long_word)\n",
    "\n",
    "\n",
    "longest(a, b)\n"
   ]
  },
  {
   "cell_type": "code",
   "execution_count": 1,
   "metadata": {},
   "outputs": [
    {
     "name": "stdout",
     "output_type": "stream",
     "text": [
      "1\n",
      "2\n",
      "4\n",
      "8\n",
      "16\n",
      "32\n",
      "64\n",
      "128\n",
      "256\n",
      "512\n"
     ]
    }
   ],
   "source": [
    "\"\"\"Print the 10 first powers of two, one per line. (beware: not the first squares!)\n",
    "Start at 0, so the first power of two is 20 (which happen to be one), followed by 21, 22, and so on up to 29.\n",
    "As a reminder, the power operator in Python is written **, so:\"\"\"\n",
    "for i in range(0, 10):\n",
    "    print(2 ** i)"
   ]
  },
  {
   "cell_type": "code",
   "execution_count": 7,
   "metadata": {},
   "outputs": [],
   "source": [
    "# Given an array of integers, return a new array with each value doubled.\n",
    "# For example:\n",
    "# [1, 2, 3] --> [2, 4, 6]\n",
    "\n",
    "a = [1, 2, 3]\n",
    "def maps(a):\n",
    "    doubled = []\n",
    "    for i in a:\n",
    "        doubled.append(i * 2)\n",
    "    return doubled\n"
   ]
  },
  {
   "cell_type": "code",
   "execution_count": 9,
   "metadata": {},
   "outputs": [
    {
     "data": {
      "text/plain": [
       "'olleH dlrow fo emosewa !elpoep'"
      ]
     },
     "execution_count": 9,
     "metadata": {},
     "output_type": "execute_result"
    }
   ],
   "source": [
    "# Complete the function that accepts a string parameter, and reverses each word in the string. \n",
    "# All spaces in the string should be retained.\n",
    "# Examples\n",
    "# \"This is an example!\" ==> \"sihT si na !elpmaxe\"\n",
    "# \"double  spaces\"      ==> \"elbuod  secaps\"\n",
    "\n",
    "def reverse_words(text):\n",
    "    # Split sentense into a list of words\n",
    "    words = text.split()\n",
    "    # Reverse each word\n",
    "    reversed_words = [word[::-1] for word in words]\n",
    "    # Join words into string\n",
    "    reversed_text = \" \".join(reversed_words)\n",
    "    return reversed_text\n",
    "reverse_words(\"Hello world of awesome people!\")\n",
    "\n",
    "\n"
   ]
  },
  {
   "cell_type": "code",
   "execution_count": 17,
   "metadata": {},
   "outputs": [
    {
     "data": {
      "text/plain": [
       "'S.H'"
      ]
     },
     "execution_count": 17,
     "metadata": {},
     "output_type": "execute_result"
    }
   ],
   "source": [
    "\"\"\"Write a function to convert a name into initials. This kata strictly takes two words with one space in between them.\n",
    "The output should be two capital letters with a dot separating them.\n",
    "It should look like this:\n",
    "Sam Harris => S.H\n",
    "patrick feeney => P.F\"\"\"\n",
    "\n",
    "def abbrev_name(name):\n",
    "    words = name.split()\n",
    "    initials = \".\".join(word[0].upper() for word in words)\n",
    "    return initials\n",
    "\n",
    "\n",
    "abbrev_name(\"Sam Harris\")\n"
   ]
  }
 ],
 "metadata": {
  "kernelspec": {
   "display_name": "base",
   "language": "python",
   "name": "python3"
  },
  "language_info": {
   "codemirror_mode": {
    "name": "ipython",
    "version": 3
   },
   "file_extension": ".py",
   "mimetype": "text/x-python",
   "name": "python",
   "nbconvert_exporter": "python",
   "pygments_lexer": "ipython3",
   "version": "3.11.2"
  },
  "orig_nbformat": 4
 },
 "nbformat": 4,
 "nbformat_minor": 2
}
