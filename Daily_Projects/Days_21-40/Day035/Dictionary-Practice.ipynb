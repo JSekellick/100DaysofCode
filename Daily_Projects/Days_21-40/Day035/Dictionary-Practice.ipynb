{
 "cells": [
  {
   "cell_type": "code",
   "execution_count": null,
   "metadata": {},
   "outputs": [],
   "source": [
    "# Create a dictionary with the following key-value pairs:\n",
    "# \"name\" - \"John\", \"age\" - 25, \"city\" - \"New York\"\n",
    "my_dict = {\n",
    "    \"name\" : \"John\",\n",
    "    \"age\" : 25,\n",
    "    \"city\" : \"New York\",\n",
    "}"
   ]
  },
  {
   "cell_type": "code",
   "execution_count": null,
   "metadata": {},
   "outputs": [],
   "source": [
    "# Access the value of the \"name\" key in the dictionary created in the previous exercise.\n",
    "my_dict[\"name\"]"
   ]
  }
 ],
 "metadata": {
  "language_info": {
   "name": "python"
  },
  "orig_nbformat": 4
 },
 "nbformat": 4,
 "nbformat_minor": 2
}
