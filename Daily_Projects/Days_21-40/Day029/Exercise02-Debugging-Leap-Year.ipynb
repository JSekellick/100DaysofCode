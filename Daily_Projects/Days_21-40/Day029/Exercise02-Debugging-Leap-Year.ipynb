{
 "cells": [
  {
   "attachments": {},
   "cell_type": "markdown",
   "metadata": {},
   "source": [
    "## Exercise 2 - Debugging Leap Year\n",
    "Overview\n",
    "My Submissions/Test Runs\n",
    "Instructions\n",
    "Read this the code in main.py\n",
    "Spot the problems 🐞.\n",
    "Modify the code to fix the program.\n",
    "No shortcuts - don't copy-paste to replace the code entirely with a working solution.\n",
    "Fix the code so that it works and when you hit submit it should pass all the tests.\n",
    "\n",
    "Test Your Code\n",
    "Check your code is doing what it is supposed to. When you're happy with your code, click submit to check your solution.\n",
    "\n",
    "Solution\n",
    "https://repl.it/@appbrewery/day-13-2-solution"
   ]
  },
  {
   "cell_type": "code",
   "execution_count": null,
   "metadata": {
    "vscode": {
     "languageId": "plaintext"
    }
   },
   "outputs": [],
   "source": [
    "year = input(\"Which year do you want to check? \")\n",
    "\n",
    "if year % 4 == 0:\n",
    "  if year % 100 == 0:\n",
    "    if year % 400 == 0:\n",
    "      print(\"Leap year.\")\n",
    "    else:\n",
    "      print(\"Not leap year.\")\n",
    "  else:\n",
    "    print(\"Leap year.\")\n",
    "else:\n",
    "  print(\"Not leap year.\")\n",
    "  "
   ]
  }
 ],
 "metadata": {
  "language_info": {
   "name": "python"
  },
  "orig_nbformat": 4
 },
 "nbformat": 4,
 "nbformat_minor": 2
}
