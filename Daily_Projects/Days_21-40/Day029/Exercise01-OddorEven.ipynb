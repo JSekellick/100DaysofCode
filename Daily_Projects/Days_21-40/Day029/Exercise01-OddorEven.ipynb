{
 "cells": [
  {
   "attachments": {},
   "cell_type": "markdown",
   "metadata": {},
   "source": [
    "## Exercise 1 - Debugging Odd or Even\n",
    "Overview\n",
    "My Submissions/Test Runs\n",
    "Instructions\n",
    "Read this the code in main.py\n",
    "Spot the problems 🐞.\n",
    "Modify the code to fix the program.\n",
    "Fix the code so that it works and passes the tests when you submit.\n",
    "\n",
    "Hint\n",
    "Review the previous lesson and go through the 10 steps to tackle these debugging problems.\n",
    "Test Your Code\n",
    "Check your code is doing what it is supposed to. When you're happy with your code, click submit to check your solution.\n",
    "\n",
    "Solution\n",
    "https://repl.it/@appbrewery/day-13-1-solution"
   ]
  },
  {
   "cell_type": "code",
   "execution_count": 4,
   "metadata": {},
   "outputs": [
    {
     "name": "stdout",
     "output_type": "stream",
     "text": [
      "This is an odd number.\n"
     ]
    }
   ],
   "source": [
    "number = int(input(\"Which number do you want to check? \"))\n",
    "\n",
    "if number % 2 == 0:\n",
    "    print(\"This is an even number.\")\n",
    "else:\n",
    "    print(\"This is an odd number.\")\n"
   ]
  }
 ],
 "metadata": {
  "kernelspec": {
   "display_name": "Python 3",
   "language": "python",
   "name": "python3"
  },
  "language_info": {
   "codemirror_mode": {
    "name": "ipython",
    "version": 3
   },
   "file_extension": ".py",
   "mimetype": "text/x-python",
   "name": "python",
   "nbconvert_exporter": "python",
   "pygments_lexer": "ipython3",
   "version": "3.10.5"
  },
  "orig_nbformat": 4
 },
 "nbformat": 4,
 "nbformat_minor": 2
}
