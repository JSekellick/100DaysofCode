{
 "cells": [
  {
   "attachments": {},
   "cell_type": "markdown",
   "metadata": {},
   "source": [
    "## Nesting Dictionaries\n",
    "Dictionaries can be thought of like a folder. You can put stuff in a folder. Also, you can put another folder in a folder. Kinda like a nested dictionary"
   ]
  },
  {
   "attachments": {},
   "cell_type": "markdown",
   "metadata": {},
   "source": [
    "{\n",
    "    Key0: Value,\n",
    "    Key1: Value,\n",
    "}\n",
    "or\n",
    "{\n",
    "    Key0: [List],\n",
    "    Key1: {Dict},\n",
    "}\n",
    "This gives us more flexibility when trying to store more complex peices of data.\n"
   ]
  },
  {
   "cell_type": "code",
   "execution_count": null,
   "metadata": {},
   "outputs": [],
   "source": [
    "# Nesting\n",
    "capitals = {\n",
    "    \"France\": \"Paris\",\n",
    "    \"German\": \"Berlin\",\n",
    "}\n",
    "\n",
    "# Nesting a List in a Dictionary\n",
    "\n",
    "travel_log = {\n",
    "    \"France\": [\"Paris\", \"Lille\", \"Dijon\"],\n",
    "    \"Germany\": [\"Berlin\", \"Hamburg\", \"Stuttgart\"],\n",
    "}\n",
    "# Can also next lists within lists\n",
    "[\"A\", \"B\", [\"C\", \"D\"]]\n",
    "\n",
    "# Nesting a Dictionary in a Dictionary\n",
    "travel_log = {\n",
    "    \"France\": {\"cities_visited\": [\"Paris\", \"Lille\", \"Dijon\"], \"total_visits\": 12},\n",
    "    \"Germany\": {\"cities_visited\": [\"Berlin\", \"Hamburg\", \"Stuttgart\"], \"total_visits\": 5},\n",
    "}"
   ]
  },
  {
   "cell_type": "code",
   "execution_count": null,
   "metadata": {},
   "outputs": [],
   "source": [
    "travel_log = {\n",
    "    \"Texas\": {\"cities_visited\": [\"Austin\", \"Fort Worth\", \"San Antonio\", \"Waco\", \"Dallas\"]}\n",
    "}"
   ]
  },
  {
   "cell_type": "code",
   "execution_count": 1,
   "metadata": {},
   "outputs": [],
   "source": [
    "# Nexted Dictionary Inside a List\n",
    "travel_log = [\n",
    "    {\n",
    "    \"country\": \"France\",\n",
    "    \"cities_visited\": [\"Paris\", \"Lille\", \"Dijon\"],\n",
    "    \"total_visits\": 12\n",
    "    },\n",
    "    {\n",
    "    \"country\": \"Germany\",\n",
    "    \"cities_visited\": [\"Berlin\", \"Hamburg\", \"Stuttgart\"],\n",
    "    \"total_visits\": 5\n",
    "    },\n",
    "]\n"
   ]
  }
 ],
 "metadata": {
  "kernelspec": {
   "display_name": "Python 3",
   "language": "python",
   "name": "python3"
  },
  "language_info": {
   "codemirror_mode": {
    "name": "ipython",
    "version": 3
   },
   "file_extension": ".py",
   "mimetype": "text/x-python",
   "name": "python",
   "nbconvert_exporter": "python",
   "pygments_lexer": "ipython3",
   "version": "3.10.5"
  },
  "orig_nbformat": 4
 },
 "nbformat": 4,
 "nbformat_minor": 2
}
