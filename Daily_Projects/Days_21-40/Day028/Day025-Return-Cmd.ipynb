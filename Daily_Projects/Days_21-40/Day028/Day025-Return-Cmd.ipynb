{
 "cells": [
  {
   "attachments": {},
   "cell_type": "markdown",
   "metadata": {},
   "source": [
    "## Return Command\n",
    "The return command sends some information back to the part of the code that called it. This means the function call is replaced with whatever was returned.\n",
    "\n",
    "We saw this before with importing libraries and random numbers. We could use the random number wherever we wanted."
   ]
  },
  {
   "cell_type": "code",
   "execution_count": null,
   "metadata": {},
   "outputs": [],
   "source": [
    "#subroutine has parameter called `number`\n",
    "#`number` shows how many numbers we want the pin to have\n",
    "def pinPicker(number):\n",
    "  import random\n",
    "  pin = \"\" #this is the empty string\n",
    "  for i in range(number): #for loop shows defined amount of random numbers\n",
    "    pin += str(random.randint(0,9)) #we want a string of random numbers between 0-9\n",
    "  return pin\n",
    "    \n",
    "pinPicker(4) #4 means we want 4 random numbers\n",
    "myPin = pinPicker(4)\n",
    "print(myPin)"
   ]
  },
  {
   "cell_type": "code",
   "execution_count": 3,
   "metadata": {},
   "outputs": [
    {
     "name": "stdout",
     "output_type": "stream",
     "text": [
      "55.0\n"
     ]
    }
   ],
   "source": [
    "## Common Errors\n",
    "def areaOfTriangle(base, height):\n",
    "    area = 0.5 * base * height\n",
    "    return area\n",
    "\n",
    "area = areaOfTriangle(5, 22)\n",
    "print(area)"
   ]
  },
  {
   "cell_type": "code",
   "execution_count": 4,
   "metadata": {},
   "outputs": [
    {
     "name": "stdout",
     "output_type": "stream",
     "text": [
      "55.0\n"
     ]
    }
   ],
   "source": [
    "# Name Error\n",
    "def areaOfTriangle(base, height):\n",
    "    area = 0.5 * base * height\n",
    "    return area\n",
    "\n",
    "area = areaOfTriangle(5, 22)\n",
    "print(area)"
   ]
  }
 ],
 "metadata": {
  "kernelspec": {
   "display_name": "Python 3",
   "language": "python",
   "name": "python3"
  },
  "language_info": {
   "codemirror_mode": {
    "name": "ipython",
    "version": 3
   },
   "file_extension": ".py",
   "mimetype": "text/x-python",
   "name": "python",
   "nbconvert_exporter": "python",
   "pygments_lexer": "ipython3",
   "version": "3.10.5"
  },
  "orig_nbformat": 4
 },
 "nbformat": 4,
 "nbformat_minor": 2
}
