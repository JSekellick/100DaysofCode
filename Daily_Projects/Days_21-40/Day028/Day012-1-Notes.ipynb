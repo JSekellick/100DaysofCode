{
 "cells": [
  {
   "attachments": {},
   "cell_type": "markdown",
   "metadata": {},
   "source": [
    "# Scope\n",
    "## App Brewery Day 021 of 100 Days of Code\n",
    "### Jared Sekellick"
   ]
  },
  {
   "cell_type": "code",
   "execution_count": 1,
   "metadata": {},
   "outputs": [
    {
     "name": "stdout",
     "output_type": "stream",
     "text": [
      "enemies inside function: 2\n",
      "enemies outside function: 1\n"
     ]
    }
   ],
   "source": [
    "enemies = 1\n",
    "\n",
    "def increase_enemies():\n",
    "    enemies = 2\n",
    "    print(f\"enemies inside function: {enemies}\")\n",
    "\n",
    "increase_enemies()\n",
    "print(f\"enemies outside function: {enemies}\")"
   ]
  },
  {
   "cell_type": "code",
   "execution_count": null,
   "metadata": {},
   "outputs": [],
   "source": [
    "# This code creates and error 'not defined'ArithmeticError\n",
    "def drink_potion():\n",
    "    portion_strength = 2\n",
    "    print(potion_strength)\n",
    "\n",
    "drink_potion()\n",
    "print(potion_strength)"
   ]
  },
  {
   "cell_type": "code",
   "execution_count": null,
   "metadata": {},
   "outputs": [],
   "source": [
    "# Global variables vs local\n",
    "\n",
    "def game():\n",
    "    def drink_potion():\n",
    "        motion_strength = 2\n",
    "        print(player_health)\n",
    "\n",
    "    drink_potion()\n",
    "print(player_health)"
   ]
  },
  {
   "cell_type": "code",
   "execution_count": 4,
   "metadata": {},
   "outputs": [],
   "source": [
    "# No Block Scope in Python\n",
    "if 3 > 2:\n",
    "    a_variable = 10 # Does not count as a fence"
   ]
  },
  {
   "cell_type": "code",
   "execution_count": 5,
   "metadata": {},
   "outputs": [
    {
     "name": "stdout",
     "output_type": "stream",
     "text": [
      "Skeleton\n"
     ]
    }
   ],
   "source": [
    "# No 'Block Scope' example\n",
    "# Variables within functions are \"Blocked\" in that function\n",
    "\n",
    "game_level = 3\n",
    "enemies = [\"Skeleton\", \"Zombie\", \"Alien\"]\n",
    "if game_level < 5:\n",
    "    new_enemy = enemies[0]\n",
    "\n",
    "print(new_enemy) # Skeleton will print"
   ]
  },
  {
   "cell_type": "code",
   "execution_count": 8,
   "metadata": {},
   "outputs": [
    {
     "name": "stdout",
     "output_type": "stream",
     "text": [
      "enemies inside function: 2\n",
      "enemies outside function: 2\n"
     ]
    }
   ],
   "source": [
    "# Modifying Global Scope\n",
    "\n",
    "enemies = 1\n",
    "\n",
    "def increase_enemies():\n",
    "    global enemies # Not usually done in Python programming\n",
    "    enemies += 1\n",
    "    print(f\"enemies inside function: {enemies}\") # inside variable\n",
    "\n",
    "increase_enemies()\n",
    "print(f\"enemies outside function: {enemies}\") # outside variable"
   ]
  },
  {
   "cell_type": "code",
   "execution_count": null,
   "metadata": {},
   "outputs": [],
   "source": [
    "# Alternative Global method\n",
    "\n",
    "enemies = 1\n",
    "\n",
    "def increase_enemies():\n",
    "    print(f\"enemies inside function: {enemies}\") # inside variable\n",
    "    return enemies + 1\n",
    "\n",
    "enemies = increase_enemies()\n",
    "print(f\"enemies outside function: {enemies}\") # outside variable"
   ]
  },
  {
   "cell_type": "code",
   "execution_count": null,
   "metadata": {},
   "outputs": [],
   "source": [
    "# Global Constants\n",
    "\n",
    "PI = 3.14159 # ALL_UPPERCASE with underscores '_'\n",
    "URL = \"https://www.google.com\"\n",
    "TWITTER_HANDLE = \"@RobotBearDad\"\n",
    "\n",
    "\n",
    "\n"
   ]
  },
  {
   "cell_type": "code",
   "execution_count": 9,
   "metadata": {},
   "outputs": [
    {
     "name": "stdout",
     "output_type": "stream",
     "text": [
      "10\n"
     ]
    }
   ],
   "source": [
    "def a_function(a_parameter):\n",
    "    a_variable = 15\n",
    "    return a_parameter\n",
    " \n",
    "a_function(10)\n",
    "print(a_variable)"
   ]
  },
  {
   "cell_type": "code",
   "execution_count": 10,
   "metadata": {},
   "outputs": [
    {
     "name": "stdout",
     "output_type": "stream",
     "text": [
      "50\n"
     ]
    }
   ],
   "source": [
    "i = 50\n",
    "def foo():\n",
    "    i = 100\n",
    "    return i\n",
    " \n",
    "foo()\n",
    "print(i)"
   ]
  },
  {
   "cell_type": "code",
   "execution_count": 11,
   "metadata": {},
   "outputs": [
    {
     "name": "stdout",
     "output_type": "stream",
     "text": [
      "16\n"
     ]
    }
   ],
   "source": [
    "def bar():\n",
    "    my_variable = 9\n",
    " \n",
    "    if 16 > 9:\n",
    "      my_variable = 16\n",
    " \n",
    "    print(my_variable)\n",
    " \n",
    "bar()"
   ]
  }
 ],
 "metadata": {
  "kernelspec": {
   "display_name": "Python 3",
   "language": "python",
   "name": "python3"
  },
  "language_info": {
   "codemirror_mode": {
    "name": "ipython",
    "version": 3
   },
   "file_extension": ".py",
   "mimetype": "text/x-python",
   "name": "python",
   "nbconvert_exporter": "python",
   "pygments_lexer": "ipython3",
   "version": "3.10.5"
  },
  "orig_nbformat": 4
 },
 "nbformat": 4,
 "nbformat_minor": 2
}
