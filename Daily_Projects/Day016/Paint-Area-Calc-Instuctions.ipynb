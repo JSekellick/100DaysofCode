{
 "cells": [
  {
   "attachments": {},
   "cell_type": "markdown",
   "metadata": {},
   "source": [
    "##Instructions\n",
    "You are painting a wall. The instructions on the paint can says that 1 can of paint can cover 5 square meters of wall. Given a random height and width of wall, calculate how many cans of paint you'll need to buy.\n",
    "\n",
    "number of cans = (wall height x wall width) ÷ coverage per can.\n",
    "\n",
    "e.g. Height = 2, Width = 4, Coverage = 5\n",
    "\n",
    "number of cans = (2 * 4) / 5\n",
    "\n",
    "                           = 1.6\n",
    "\n",
    "But because you can't buy 0.6 of a can of paint, the result should be rounded up to 2 cans.\n",
    "\n",
    "IMPORTANT: Notice the name of the function and parameters must match those on line 13 for the code to work."
   ]
  },
  {
   "cell_type": "code",
   "execution_count": null,
   "metadata": {
    "vscode": {
     "languageId": "plaintext"
    }
   },
   "outputs": [],
   "source": [
    "###Example Input\n",
    "test_h = 3\n",
    "test_w = 9\n",
    "\n",
    "### Example Output\n",
    "You'll need 6 cans of paint."
   ]
  },
  {
   "attachments": {},
   "cell_type": "markdown",
   "metadata": {},
   "source": [
    "###Hint\n",
    "1. To round up a number:\n",
    "\n",
    "https://stackoverflow.com/questions/2356501/how-do-you-round-up-a-number-in-python\n",
    "\n",
    "2. Make sure you name your function/parameters the same as when it's called on the last line of code.\n",
    "\n",
    "###Test Your Code\n",
    "Check your code is doing what it is supposed to. When you're happy with your code, click submit to check your solution.\n",
    "\n",
    "Solution\n",
    "https://repl.it/@appbrewery/day-8-1-solution"
   ]
  }
 ],
 "metadata": {
  "language_info": {
   "name": "python"
  },
  "orig_nbformat": 4
 },
 "nbformat": 4,
 "nbformat_minor": 2
}
