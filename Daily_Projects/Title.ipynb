{
 "cells": [
  {
   "cell_type": "code",
   "execution_count": null,
   "metadata": {},
   "outputs": [],
   "source": [
    "# Replit Day 027 of 100 Days of Code - Python\n",
    "# My Code\n",
    "\n",
    "print(\"4A 61 72 65 64  53 65 6B 65 6C 6C 69 63 6B \")\n",
    "print()\n",
    "# Jared Sekellick"
   ]
  }
 ],
 "metadata": {
  "language_info": {
   "name": "python"
  },
  "orig_nbformat": 4
 },
 "nbformat": 4,
 "nbformat_minor": 2
}
